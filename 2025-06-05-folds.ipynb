{
 "cells": [
  {
   "cell_type": "code",
   "execution_count": 1,
   "id": "690bdd10",
   "metadata": {},
   "outputs": [
    {
     "name": "stdout",
     "output_type": "stream",
     "text": [
      "Fold 1: [ 19  45 140  30  67  16 119 174 109 141  24 150  41 118  15 111 113  82\n",
      "   9 114  18  66  60 169 171 164 117  65  90  55  29 128 145  31  12  42]\n",
      "Fold 2: [158 137  98 159  38 108  85  68 143   2 100 122 154  51  76  56  26 153\n",
      " 138 104  78  36  93  22 146  97  69 167  11   6  27 144   4  32  95 170]\n",
      "Fold 3: [ 75  10 147 123   0 142 126  64  44  96  28  40 127  25  23 132  81  79\n",
      "  84  39 101  86 120 173 162  47  94 135 166  61  73  33 125 133 139  62]\n",
      "Fold 4: [176 112 115 105  53   5 160   3 165  49  35  80  77  34  46   7 124  43\n",
      "  70 136 110  91  83 156 161  89   8  13  59 152 131  17  72 155 134]\n",
      "Fold 5: [148 163  63  54 107  50 175  58  48  88  21  57 172 129  37 157 168   1\n",
      "  52 149 130 151 103  99 116  87  74 121 177  20  71 106  14  92 102]\n"
     ]
    }
   ],
   "source": [
    "import numpy as np\n",
    "from sklearn.datasets import load_wine\n",
    "\n",
    "# Load Wine dataset\n",
    "data = load_wine()\n",
    "X = data.data\n",
    "y = data.target\n",
    "\n",
    "# Combine features and labels to keep their relationship during shuffling\n",
    "np.random.seed(42)  # For reproducibility\n",
    "indices = np.random.permutation(len(X))  # Shuffle indices\n",
    "\n",
    "# Split indices into 5 folds manually\n",
    "K = 5\n",
    "folds = np.array_split(indices, K)\n",
    "\n",
    "# Print the fold indices\n",
    "for i, fold in enumerate(folds):\n",
    "    print(f\"Fold {i+1}: {fold}\")\n"
   ]
  },
  {
   "cell_type": "code",
   "execution_count": 3,
   "id": "90ed7b9a",
   "metadata": {},
   "outputs": [
    {
     "name": "stdout",
     "output_type": "stream",
     "text": [
      "\n",
      "=== Fold 1 ===\n",
      "Accuracy: 1.0000\n",
      "\n",
      "=== Fold 2 ===\n",
      "Accuracy: 0.9722\n",
      "\n",
      "=== Fold 3 ===\n",
      "Accuracy: 1.0000\n",
      "\n",
      "=== Fold 4 ===\n",
      "Accuracy: 0.9714\n",
      "\n",
      "=== Fold 5 ===\n",
      "Accuracy: 1.0000\n"
     ]
    }
   ],
   "source": [
    "from sklearn.linear_model import LogisticRegression\n",
    "from sklearn.metrics import accuracy_score\n",
    "from sklearn.preprocessing import StandardScaler\n",
    "\n",
    "# Step: Scale the full dataset once (recommended for logistic regression)\n",
    "scaler = StandardScaler()\n",
    "X = scaler.fit_transform(X)\n",
    "\n",
    "accuracies = []\n",
    "\n",
    "# Perform steps for each fold\n",
    "for i in range(K):\n",
    "    print(f\"\\n=== Fold {i+1} ===\")\n",
    "    \n",
    "    # 1. Use fold i as test, rest as train\n",
    "    test_idx = folds[i]\n",
    "    train_idx = np.concatenate([folds[j] for j in range(K) if j != i])\n",
    "    \n",
    "    X_train, y_train = X[train_idx], y[train_idx]\n",
    "    X_test, y_test = X[test_idx], y[test_idx]\n",
    "    \n",
    "    # 2. Train Logistic Regression\n",
    "    model = LogisticRegression(max_iter=1000)\n",
    "    model.fit(X_train, y_train)\n",
    "    \n",
    "    # 3. Predict on test set\n",
    "    y_pred = model.predict(X_test)\n",
    "    \n",
    "    # 4. Calculate and store accuracy\n",
    "    acc = accuracy_score(y_test, y_pred)\n",
    "    accuracies.append(acc)\n",
    "    \n",
    "    print(f\"Accuracy: {acc:.4f}\")\n"
   ]
  },
  {
   "cell_type": "code",
   "execution_count": 4,
   "id": "0361dc21",
   "metadata": {},
   "outputs": [
    {
     "name": "stdout",
     "output_type": "stream",
     "text": [
      "\n",
      "=== Summary ===\n",
      "Fold 1 Accuracy: 1.0000\n",
      "Fold 2 Accuracy: 0.9722\n",
      "Fold 3 Accuracy: 1.0000\n",
      "Fold 4 Accuracy: 0.9714\n",
      "Fold 5 Accuracy: 1.0000\n",
      "\n",
      "Average Accuracy over 5 folds: 0.9887\n"
     ]
    }
   ],
   "source": [
    "# After running the fold loop that collects accuracies\n",
    "\n",
    "print(\"\\n=== Summary ===\")\n",
    "for i, acc in enumerate(accuracies, 1):\n",
    "    print(f\"Fold {i} Accuracy: {acc:.4f}\")\n",
    "\n",
    "average_accuracy = np.mean(accuracies)\n",
    "print(f\"\\nAverage Accuracy over {K} folds: {average_accuracy:.4f}\")\n"
   ]
  }
 ],
 "metadata": {
  "kernelspec": {
   "display_name": "Python 3",
   "language": "python",
   "name": "python3"
  },
  "language_info": {
   "codemirror_mode": {
    "name": "ipython",
    "version": 3
   },
   "file_extension": ".py",
   "mimetype": "text/x-python",
   "name": "python",
   "nbconvert_exporter": "python",
   "pygments_lexer": "ipython3",
   "version": "3.11.9"
  }
 },
 "nbformat": 4,
 "nbformat_minor": 5
}
