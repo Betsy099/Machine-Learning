{
 "cells": [
  {
   "cell_type": "code",
   "execution_count": 2,
   "id": "24787d76",
   "metadata": {},
   "outputs": [
    {
     "name": "stdout",
     "output_type": "stream",
     "text": [
      "Weights (theta): [4.21509616 2.77011339]\n",
      "R² Score: 0.7692735413614225\n"
     ]
    }
   ],
   "source": [
    "import numpy as np\n",
    "\n",
    "class LinearRegressionGD:\n",
    "    def __init__(self, learning_rate=0.01, n_iters=1000):\n",
    "        self.learning_rate = learning_rate\n",
    "        self.n_iters = n_iters\n",
    "        self.weights = None\n",
    "\n",
    "    def fit(self, X, y):\n",
    "        m, n = X.shape\n",
    "        X_b = np.c_[np.ones((m, 1)), X]  \n",
    "        self.weights = np.zeros((n + 1, 1))\n",
    "        y = y.reshape(-1, 1)\n",
    "\n",
    "        for _ in range(self.n_iters):\n",
    "            gradients = 2/m * X_b.T @ (X_b @ self.weights - y)\n",
    "            self.weights -= self.learning_rate * gradients\n",
    "\n",
    "    def predict(self, X):\n",
    "        X_b = np.c_[np.ones((X.shape[0], 1)), X]\n",
    "        return X_b @ self.weights\n",
    "\n",
    "    def score(self, X, y):\n",
    "        y_pred = self.predict(X)\n",
    "        ss_total = np.sum((y - np.mean(y))**2)\n",
    "        ss_residual = np.sum((y - y_pred)**2)\n",
    "        return 1 - ss_residual / ss_total\n",
    "\n",
    "np.random.seed(42)\n",
    "X = 2 * np.random.rand(100, 1)\n",
    "y = 4 + 3 * X + np.random.randn(100, 1)\n",
    "\n",
    "model = LinearRegressionGD(learning_rate=0.1, n_iters=1000)\n",
    "model.fit(X, y)\n",
    "preds = model.predict(X)\n",
    "print(\"Weights (theta):\", model.weights.ravel())\n",
    "print(\"R² Score:\", model.score(X, y))\n"
   ]
  }
 ],
 "metadata": {
  "kernelspec": {
   "display_name": "Python 3",
   "language": "python",
   "name": "python3"
  },
  "language_info": {
   "codemirror_mode": {
    "name": "ipython",
    "version": 3
   },
   "file_extension": ".py",
   "mimetype": "text/x-python",
   "name": "python",
   "nbconvert_exporter": "python",
   "pygments_lexer": "ipython3",
   "version": "3.11.9"
  }
 },
 "nbformat": 4,
 "nbformat_minor": 5
}
